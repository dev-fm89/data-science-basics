{
 "cells": [
  {
   "cell_type": "code",
   "execution_count": null,
   "id": "2e2c6777-232c-4e5a-a65d-ee23715f0f86",
   "metadata": {},
   "outputs": [],
   "source": [
    "Neural Network Basics\n",
    "\n",
    "The human brain is the inspiration behind neural network architecture. Human brain cells, called neurons, form a complex, highly interconnected network and send electrical signals to each other to help humans process information. \n",
    "Similarly, an artificial neural network is made of artificial neurons that work together to solve a problem. Artificial neurons are software modules, called nodes, and artificial neural networks are software programs or algorithms that, \n",
    "at their core, use computing systems to solve mathematical calculations.\n",
    "\n",
    "A basic neural network has interconnected artificial neurons in three layers:\n",
    "\n",
    "- Input Layer\n",
    "Information from the outside world enters the artificial neural network from the input layer. \n",
    "Input nodes process the data, analyze or categorize it, and pass it on to the next layer.\n",
    "\n",
    "- Hidden Layer\n",
    "Hidden layers take their input from the input layer or other hidden layers. \n",
    "Artificial neural networks can have a large number of hidden layers. Each hidden layer analyzes the output from the previous layer, processes it further, and passes it on to the next layer.\n",
    "\n",
    "- Output Layer\n",
    "The output layer gives the final result of all the data processing by the artificial neural network. It can have single or multiple nodes. For instance, if we have a binary (yes/no) classification problem, the output layer will have one output node, which will give the result as 1 or 0. \n",
    "However, if we have a multi-class classification problem, the output layer might consist of more than one output node.\n",
    "\n",
    "Deep neural network architecture\n",
    "Deep neural networks, or deep learning networks, have several hidden layers with millions of artificial neurons linked together. A number, called weight, represents the connections between one node and another. The weight is a positive number if one node excites another, or negative if one node suppresses the other. Nodes with higher weight values have more influence on the other nodes.\n",
    "Theoretically, deep neural networks can map any input type to any output type. However, they also need much more training as compared to other machine learning methods. They need millions of examples of training data rather than perhaps the hundreds or thousands that a simpler network might need.\n",
    "\n",
    "\n",
    "\n",
    "\n",
    "\n",
    "\n"
   ]
  }
 ],
 "metadata": {
  "kernelspec": {
   "display_name": "Python 3 (ipykernel)",
   "language": "python",
   "name": "python3"
  },
  "language_info": {
   "codemirror_mode": {
    "name": "ipython",
    "version": 3
   },
   "file_extension": ".py",
   "mimetype": "text/x-python",
   "name": "python",
   "nbconvert_exporter": "python",
   "pygments_lexer": "ipython3",
   "version": "3.10.12"
  }
 },
 "nbformat": 4,
 "nbformat_minor": 5
}
