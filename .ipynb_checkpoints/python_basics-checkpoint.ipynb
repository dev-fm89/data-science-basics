{
 "cells": [
  {
   "cell_type": "code",
   "execution_count": 4,
   "id": "d65e0ea6-d780-4dcf-b1ae-a95021f04ca7",
   "metadata": {},
   "outputs": [
    {
     "name": "stdin",
     "output_type": "stream",
     "text": [
      "Enter your value:  hi\n"
     ]
    },
    {
     "name": "stdout",
     "output_type": "stream",
     "text": [
      "hi World\n"
     ]
    }
   ],
   "source": [
    "#taking input\n",
    "val = input(\"Enter your value: \") \n",
    "print(val + \" World\")"
   ]
  },
  {
   "cell_type": "code",
   "execution_count": 7,
   "id": "cf057c0d-24cf-49f5-a596-0cccddc9ee8b",
   "metadata": {},
   "outputs": [
    {
     "name": "stdin",
     "output_type": "stream",
     "text": [
      "Enter number : 12\n"
     ]
    },
    {
     "name": "stdout",
     "output_type": "stream",
     "text": [
      "12\n",
      "type of number <class 'str'>\n"
     ]
    }
   ],
   "source": [
    "#type\n",
    "num = input (\"Enter number :\") \n",
    "print(num) \n",
    "# Printing type of input value \n",
    "print (\"type of number\", type(num)) "
   ]
  },
  {
   "cell_type": "code",
   "execution_count": 8,
   "id": "7c52ac8a-5120-4a8e-beee-57668a0d68c7",
   "metadata": {},
   "outputs": [
    {
     "name": "stdin",
     "output_type": "stream",
     "text": [
      "Enter a number:  123\n"
     ]
    },
    {
     "name": "stdout",
     "output_type": "stream",
     "text": [
      "123   <class 'int'>\n"
     ]
    }
   ],
   "source": [
    "#type casting\n",
    "num = int(input(\"Enter a number: \")) \n",
    "print(num, \" \", type(num)) "
   ]
  },
  {
   "cell_type": "code",
   "execution_count": 9,
   "id": "f39c8952-4962-4bec-b314-10c33d554797",
   "metadata": {},
   "outputs": [
    {
     "name": "stdout",
     "output_type": "stream",
     "text": [
      "Name: John\n",
      "Age: 30\n"
     ]
    }
   ],
   "source": [
    "#print function\n",
    "name = \"John\"\n",
    "age = 30\n",
    "\n",
    "print(\"Name:\", name)\n",
    "print(\"Age:\", age)"
   ]
  },
  {
   "cell_type": "code",
   "execution_count": 10,
   "id": "84624e4b-12b2-43a1-9198-e04e585de170",
   "metadata": {},
   "outputs": [
    {
     "name": "stdout",
     "output_type": "stream",
     "text": [
      "GeeksForGeeks is the best platform for DSA content\n",
      "GeeksForGeeks is the best platform for DSA content**Welcome to GFG\n"
     ]
    }
   ],
   "source": [
    "# end parameter\n",
    "# This line will automatically add a new line\n",
    "print (\"GeeksForGeeks is the best platform for DSA content\")\n",
    "\n",
    "# This print() function ends with \"**\" as set in the end argument.\n",
    "print (\"GeeksForGeeks is the best platform for DSA content\", end= \"**\")\n",
    "print(\"Welcome to GFG\")"
   ]
  },
  {
   "cell_type": "markdown",
   "id": "5eeaa13f-e3d0-4170-912e-210bcc2e16b3",
   "metadata": {},
   "source": [
    "#format\n",
    "a,b,=10,1000\n",
    "print('The value of a is {} and b is {}'.format(a,b))"
   ]
  },
  {
   "cell_type": "code",
   "execution_count": 16,
   "id": "a393cc91-3ddf-4f59-b7c9-f712c4a5eabc",
   "metadata": {},
   "outputs": [
    {
     "name": "stdout",
     "output_type": "stream",
     "text": [
      "3>>>2>>>1>>>Start\n"
     ]
    }
   ],
   "source": [
    "#flush example\n",
    "#https://www.geeksforgeeks.org/python-output-using-print-function/\n",
    "#Not expected output#\n",
    "import time\n",
    "\n",
    "count_seconds = 3\n",
    "for i in reversed(range(count_seconds + 1)):\n",
    "    if i > 0:\n",
    "        print(i, end='>>>')\n",
    "        time.sleep(1)\n",
    "    else:\n",
    "        print('Start')"
   ]
  },
  {
   "cell_type": "code",
   "execution_count": 17,
   "id": "128a2c8e-57c0-4e3d-962b-820ba0510902",
   "metadata": {},
   "outputs": [
    {
     "name": "stdout",
     "output_type": "stream",
     "text": [
      "3>>>2>>>1>>>Start\n"
     ]
    }
   ],
   "source": [
    "import time\n",
    "\n",
    "count_seconds = 3\n",
    "for i in reversed(range(count_seconds + 1)):\n",
    "    if i > 0:\n",
    "        print(i, end='>>>', flush = True)\n",
    "        time.sleep(1)\n",
    "    else:\n",
    "        print('Start')\n"
   ]
  },
  {
   "cell_type": "code",
   "execution_count": 18,
   "id": "cb101af0-68f9-4a59-9036-eb9f3af904b0",
   "metadata": {},
   "outputs": [
    {
     "name": "stdout",
     "output_type": "stream",
     "text": [
      "a is divisible by b\n"
     ]
    }
   ],
   "source": [
    "# Function for checking the divisibility\n",
    "# Notice the indentation after function declaration\n",
    "# and if and else statements\n",
    "def checkDivisibility(a, b):\n",
    "    if a % b == 0 :\n",
    "        print (\"a is divisible by b\")\n",
    "    else:\n",
    "        print (\"a is not divisible by b\")\n",
    "\n",
    "#Driver program to test the above function\n",
    "checkDivisibility(4, 2)"
   ]
  },
  {
   "cell_type": "code",
   "execution_count": 19,
   "id": "43229fee-d468-4e37-bfe7-aac90c4aab79",
   "metadata": {},
   "outputs": [
    {
     "name": "stdout",
     "output_type": "stream",
     "text": [
      "['Geeks', 'for', 'Geeks']\n"
     ]
    }
   ],
   "source": [
    "#List - similar to arraylist in java\n",
    "#https://www.geeksforgeeks.org/python-lists\n",
    "Var = [\"Geeks\", \"for\", \"Geeks\"]\n",
    "print(Var)"
   ]
  },
  {
   "cell_type": "code",
   "execution_count": 21,
   "id": "c9aea551-856b-493b-b92d-9e0cd94fc1b3",
   "metadata": {},
   "outputs": [
    {
     "name": "stdout",
     "output_type": "stream",
     "text": [
      "Initial empty Tuple: \n",
      "()\n",
      "\n",
      "Tuple with the use of String: \n",
      "('Geeks', 'For')\n",
      "\n",
      "Tuple using List: \n",
      "(1, 2, 4, 5, 6)\n",
      "\n",
      "Tuple with the use of function: \n",
      "('G', 'e', 'e', 'k', 's')\n"
     ]
    }
   ],
   "source": [
    "#Tuple\n",
    "#In Python Programming, tuples are created by placing a sequence of values separated by ‘comma’ \n",
    "#with or without the use of parentheses for grouping the data sequence.\n",
    "#Note: Creation of Python tuple without the use of parentheses is known as Tuple Packing.  \n",
    "#The key difference between tuples and lists is that while tuples are immutable objects, \n",
    "#lists are mutable. This means tuples cannot be changed while lists can be modified. \n",
    "#Tuples are also more memory efficient than the lists\n",
    "\n",
    "# Creating an empty Tuple\n",
    "Tuple1 = ()\n",
    "print(\"Initial empty Tuple: \")\n",
    "print(Tuple1)\n",
    "\n",
    "# Creating a Tuple\n",
    "# with the use of string\n",
    "Tuple1 = ('Geeks', 'For')\n",
    "print(\"\\nTuple with the use of String: \")\n",
    "print(Tuple1)\n",
    "\n",
    "# Creating a Tuple with\n",
    "# the use of list\n",
    "list1 = [1, 2, 4, 5, 6]\n",
    "print(\"\\nTuple using List: \")\n",
    "print(tuple(list1))\n",
    "\n",
    "# Creating a Tuple\n",
    "# with the use of built-in function\n",
    "Tuple1 = tuple('Geeks')\n",
    "print(\"\\nTuple with the use of function: \")\n",
    "print(Tuple1)"
   ]
  },
  {
   "cell_type": "code",
   "execution_count": 22,
   "id": "6755369c-22da-4e2c-a9a8-4475520b6cb6",
   "metadata": {},
   "outputs": [
    {
     "name": "stdout",
     "output_type": "stream",
     "text": [
      "Initial blank Set: \n",
      "set()\n",
      "\n",
      "Set with the use of String: \n",
      "{'k', 'e', 's', 'r', 'o', 'G', 'F'}\n",
      "\n",
      "Set with the use of an Object: \n",
      "{'k', 'e', 's', 'r', 'o', 'G', 'F'}\n",
      "\n",
      "Set with the use of List: \n",
      "{'For', 'Geeks'}\n",
      "\n",
      "Set with the use of Tuple: \n",
      "{'for', 'Geeks'}\n"
     ]
    }
   ],
   "source": [
    "#Set\n",
    "#Python Set is an unordered collection of data types that is iterable, mutable, and has no duplicate elements. \n",
    "\n",
    "#Creating a Set\n",
    "set1 = set()\n",
    "print(\"Initial blank Set: \")\n",
    "print(set1)\n",
    "\n",
    "# Creating a Set with the use of a String\n",
    "set1 = set(\"GeeksForGeeks\")\n",
    "print(\"\\nSet with the use of String: \")\n",
    "print(set1)\n",
    "\n",
    "String = 'GeeksForGeeks'\n",
    "set1 = set(String)\n",
    "print(\"\\nSet with the use of an Object: \")\n",
    "print(set1)\n",
    "\n",
    "# Creating a Set with the use of a List\n",
    "set1 = set([\"Geeks\", \"For\", \"Geeks\"])\n",
    "print(\"\\nSet with the use of List: \")\n",
    "print(set1)\n",
    "\n",
    "# Creating a Set with the use of a tuple\n",
    "t = (\"Geeks\", \"for\", \"Geeks\")\n",
    "print(\"\\nSet with the use of Tuple: \")\n",
    "print(set(t))"
   ]
  },
  {
   "cell_type": "code",
   "execution_count": 23,
   "id": "b478f26b-b0f0-4111-a443-8bd5c9826edb",
   "metadata": {},
   "outputs": [
    {
     "name": "stdout",
     "output_type": "stream",
     "text": [
      "{3: 'Geeks', 2: 'For', 1: 'Geeks'}\n"
     ]
    }
   ],
   "source": [
    "#Dictionary\n",
    "#Dictionaries in Python is a data structure, used to store values in key:value format. This makes it different from lists, tuples, and arrays as in a dictionary each key has an associated value.\n",
    "#Note: As of Python version 3.7, dictionaries are ordered and can not contain duplicate keys.\n",
    "\n",
    "Dict = {3: 'Geeks', 2: 'For', 1: 'Geeks'}\n",
    "print(Dict)"
   ]
  },
  {
   "cell_type": "code",
   "execution_count": 24,
   "id": "7ece344e-242d-4e49-94bb-f5159b32f5ff",
   "metadata": {},
   "outputs": [
    {
     "name": "stdout",
     "output_type": "stream",
     "text": [
      "The new created array is :  1 2 3 "
     ]
    }
   ],
   "source": [
    "#Array\n",
    "import array as arr\n",
    "a = arr.array('i', [1, 2, 3])\n",
    "print(\"The new created array is : \", end=\" \")\n",
    "for i in range(0, 3):\n",
    "    print(a[i], end=\" \")"
   ]
  },
  {
   "cell_type": "code",
   "execution_count": null,
   "id": "8a33cc7f-4ac3-42cd-a17d-05f85d00d19f",
   "metadata": {},
   "outputs": [],
   "source": []
  }
 ],
 "metadata": {
  "kernelspec": {
   "display_name": "Python 3 (ipykernel)",
   "language": "python",
   "name": "python3"
  },
  "language_info": {
   "codemirror_mode": {
    "name": "ipython",
    "version": 3
   },
   "file_extension": ".py",
   "mimetype": "text/x-python",
   "name": "python",
   "nbconvert_exporter": "python",
   "pygments_lexer": "ipython3",
   "version": "3.10.12"
  }
 },
 "nbformat": 4,
 "nbformat_minor": 5
}
