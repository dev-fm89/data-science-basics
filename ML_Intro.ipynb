{
 "cells": [
  {
   "cell_type": "markdown",
   "id": "72172b02-76e5-4fc9-9476-e7284efb0c82",
   "metadata": {},
   "source": [
    "Machine Learning Intro\n",
    "\n",
    "Machine learning is subset of Artificial intelligence. Deep Learning is a subset of Machine learning"
   ]
  },
  {
   "cell_type": "markdown",
   "id": "a6b5ea45-eaea-48d0-b442-0d216e2e2847",
   "metadata": {},
   "source": [
    "Applications\n",
    "- Image Recognition:\n",
    "  It is used to identify objects, persons, places, digital images, etc. \n",
    "  Facebook project named \"Deep Face,\" which is responsible for face recognition and person identification in the picture.\n",
    "- Speech Recognition\n",
    "  Google assistant, Siri, Cortana, and Alexa\n",
    "- Recommendation\n",
    "  Like product recommendation in Amazon\n",
    "- Email Spam and Malware Filtering\n",
    "- Online Fraud Detection\n",
    "- Stock Market trading\n",
    "- Medical Diagnosis\n",
    "- Personal Assistant and LLMs\n",
    "  "
   ]
  },
  {
   "cell_type": "code",
   "execution_count": null,
   "id": "21dca743-1f01-408a-ab70-d8e8f1a6b46e",
   "metadata": {},
   "outputs": [],
   "source": [
    "Stages (Lifecycle) of ML \n",
    "- Gathering Data\n",
    "- Data exploration\n",
    "  It is used to understand the nature of data that we have to work with. We need to understand the characteristics, format, and quality of data.\n",
    "- Data preprocessing\n",
    "  It involves cleaning the data (removing duplicates, correcting invalid data), \n",
    "  handling missing data (either by removing it or filling it in), and normalizing the data (scaling the data to a standard format).\n",
    "- Choosing the right model\n",
    "- Train the model\n",
    "- Test/Evaluate the model\n",
    "  Common metrics for evaluating a model's performance include accuracy (for classification problems), precision and recall (for binary classification problems), and mean squared error (for regression problems)\n",
    "- Hyperparameter tuning and optimization\n",
    "  After evaluating the model, you may need to adjust its hyperparameters to improve its performance. This process is known as parameter tuning or hyperparameter optimization.\n",
    "- Deployment\n",
    "  This process is often known as MLOps.\n"
   ]
  },
  {
   "cell_type": "markdown",
   "id": "e11ded8a-0161-41c1-8b4d-4efa7a01e883",
   "metadata": {},
   "source": [
    "Types of ML\n",
    "\n",
    "![ML Types](img/Comparing_supervised_and_unsupervised_learning_af4d5eccb0.png)\n",
    "\n",
    "- Supervised Machine Learning\n",
    "  the model is trained on a labeled dataset. In other words, the data is accompanied by a label that the model is trying to predict.\n",
    "   - classification\n",
    "     Classification deals with predicting categorical target variables, which represent discrete classes or labels.\n",
    "        Random Forest\n",
    "        Decision Trees\n",
    "        Logistic Regression\n",
    "        Support vector Machines\n",
    "        K-Nearest-Neighbour\n",
    "        Naive Bayes classifier\n",
    "   - regression\n",
    "     Regression, on the other hand, deals with predicting continuous target variables, which represent numerical values.\n",
    "     For example, predicting the price of a house based on its size, location, and amenities, or forecasting the sales of a product.\n",
    "        Linear Regression\n",
    "        Regression Trees\n",
    "        Non-Linear Regression\n",
    "        Bayesian Linear Regression\n",
    "        K-Nearest-Neighbour\n",
    "  - Forecasting\n",
    "    Forecasting is the process of making predictions about the future based on the past and present data, and is commonly used to analyse trends.\n",
    "\n",
    "- Unsupervised Machine Learning\n",
    "  involves training the model on an unlabeled dataset. The model is left to find patterns and relationships in the data on its own.\n",
    "    - Clustering: Algorithms like K-means clustering, hierarchical clustering, and DBSCAN group a set of objects in such a way that objects in the same group are more similar to each other than to those in other groups.\n",
    "    - Association: These algorithms find rules that describe large portions of your data, such as Apriori, market basket analysis.\n",
    "    - Principal Component Analysis (PCA): A statistical procedure that uses an orthogonal transformation to convert a set of observations of possibly correlated variables into a set of values of linearly uncorrelated variables. (Dimension reduction)\n",
    "    - Autoencoders: Special type of neural network used to learn efficient codings of unlabeled data.\n",
    "\n",
    "- Semi-Supervised Machine Learning\n",
    "  - Semi-supervised learning algorithms are trained on a small labeled dataset and a large unlabeled dataset, with the labeled data guiding the learning process for the larger body of unlabeled data. A semi-supervised learning model might use unsupervised learning to identify data clusters and then use supervised learning to label the clusters.\n",
    "  - Generative adversarial networks (GANs)—deep learning tool that generates unlabeled data by training two neural networks—are an example of semi-supervised machine learning.\n",
    "\n",
    "- Reinforcement Learning\n",
    "  Reinforcement learning (also called reinforcement learning from human feedback (RLHF)) is a type of machine learning where an agent learns to make decisions by interacting with its environment.\n",
    "  The agent is rewarded or penalized (with points) for the actions it takes, and its goal is to maximize the total reward.\n",
    "  Common examples of reinforcement learning include game playing, robotics, resource management, and many more.\n",
    "\n",
    "\n",
    "  Q: What is the type of ANN/DNN ?\n",
    "\n",
    "    Neural networks are just architectures. They can be used for both supervised and semi/unsupervised learning paradigms.\n",
    "    - Deep learning can be supervised : Image classification, object detection , face recognition etc.\n",
    "    - Deep learning can be Unsupervised : Word embedding, image encoding into lower or higher dimensional etc, Autoencoders\n",
    "    - Deep learning can be Semi-supervised : GANs\n",
    "      \n",
    " Q: What types of tasks can we do with AI/ML?\n",
    " \n",
    "     1. Classification : predict from a predefined set of values\n",
    "     2. Prediction/Regression (predict any value based on input)\n",
    "     3. Clustering : grouping similar data\n",
    "     4. Association :\n",
    "     - Association learning is based on the concept of rules, which are implications of the form X → Y, where X and Y are disjoint itemsets. A typical association rule in a market basket analysis might state that if a customer buys bread and butter (X), they are likely to also buy milk (Y). \n",
    "     Example - Apriori, FP-Growth\n",
    "     Reference - https://deepai.org/machine-learning-glossary-and-terms/association-learning#:~:text=Association%20learning%20is%20based%20on,also%20buy%20milk%20(Y)."
   ]
  }
 ],
 "metadata": {
  "kernelspec": {
   "display_name": "Python 3 (ipykernel)",
   "language": "python",
   "name": "python3"
  },
  "language_info": {
   "codemirror_mode": {
    "name": "ipython",
    "version": 3
   },
   "file_extension": ".py",
   "mimetype": "text/x-python",
   "name": "python",
   "nbconvert_exporter": "python",
   "pygments_lexer": "ipython3",
   "version": "3.10.12"
  }
 },
 "nbformat": 4,
 "nbformat_minor": 5
}
