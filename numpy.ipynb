{
 "cells": [
  {
   "cell_type": "code",
   "execution_count": 7,
   "id": "a4fc155a-da9e-4403-af4b-327bfb2e5d0b",
   "metadata": {},
   "outputs": [
    {
     "name": "stdout",
     "output_type": "stream",
     "text": [
      "[[1 2 3 4]\n",
      " [5 6 7 8]]\n",
      "<class 'numpy.ndarray'>\n",
      "2\n"
     ]
    }
   ],
   "source": [
    "import numpy as np\n",
    "\n",
    "x=np.array([[1,2,3,4],[5,6,7,8]])\n",
    "print(x)\n",
    "print(type(x))\n",
    "print(x.ndim)"
   ]
  },
  {
   "cell_type": "code",
   "execution_count": 12,
   "id": "604767bb-eab1-424b-be0e-c83a97451842",
   "metadata": {},
   "outputs": [
    {
     "name": "stdout",
     "output_type": "stream",
     "text": [
      "[[[[[[[[[[1 2 3 4]]]]]]]]]]\n",
      "10\n"
     ]
    }
   ],
   "source": [
    "y=np.array([1,2,3,4], ndmin=10)\n",
    "print(y)\n",
    "print(y.ndim)"
   ]
  },
  {
   "cell_type": "code",
   "execution_count": 16,
   "id": "70b70525-2585-4372-a639-1bbe1c0c86b3",
   "metadata": {},
   "outputs": [
    {
     "name": "stdout",
     "output_type": "stream",
     "text": [
      "[[0. 0. 0. 0.]\n",
      " [0. 0. 0. 0.]\n",
      " [0. 0. 0. 0.]]\n",
      "2\n",
      "[5.05016505e-310 0.00000000e+000 0.00000000e+000]\n"
     ]
    }
   ],
   "source": [
    "#https://www.youtube.com/watch?v=CoS0L_UtkMo&list=PLjVLYmrlmjGfgBKkIFBkMNGG7qyRfo00W&index=4\n",
    "z=np.zeros((3,4))\n",
    "print(z)\n",
    "print(z.ndim)\n",
    "#np.ones()\n",
    "em = np.empty((3)) # the elements will be previus memory data\n",
    "print(em)"
   ]
  },
  {
   "cell_type": "code",
   "execution_count": null,
   "id": "6ee8768c-3e3a-446f-a6d2-85a123322d46",
   "metadata": {},
   "outputs": [],
   "source": []
  }
 ],
 "metadata": {
  "kernelspec": {
   "display_name": "Python 3 (ipykernel)",
   "language": "python",
   "name": "python3"
  },
  "language_info": {
   "codemirror_mode": {
    "name": "ipython",
    "version": 3
   },
   "file_extension": ".py",
   "mimetype": "text/x-python",
   "name": "python",
   "nbconvert_exporter": "python",
   "pygments_lexer": "ipython3",
   "version": "3.10.12"
  }
 },
 "nbformat": 4,
 "nbformat_minor": 5
}
